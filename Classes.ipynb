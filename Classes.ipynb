{
 "cells": [
  {
   "cell_type": "code",
   "execution_count": 1,
   "id": "initial_id",
   "metadata": {
    "collapsed": true,
    "jupyter": {
     "is_executing": true
    }
   },
   "outputs": [
    {
     "name": "stdout",
     "output_type": "stream",
     "text": [
      "Hello World\n"
     ]
    }
   ],
   "source": [
    "print(\"Hello World\")"
   ]
  },
  {
   "cell_type": "code",
   "execution_count": 2,
   "id": "1d41305fe738f1a4",
   "metadata": {},
   "outputs": [],
   "source": [
    "class MercedezBenz:\n",
    "    pass\n"
   ]
  },
  {
   "cell_type": "code",
   "execution_count": 3,
   "id": "1e894c24",
   "metadata": {},
   "outputs": [
    {
     "data": {
      "text/plain": [
       "__main__.MercedezBenz"
      ]
     },
     "execution_count": 3,
     "metadata": {},
     "output_type": "execute_result"
    }
   ],
   "source": [
    "MercedezBenz"
   ]
  },
  {
   "cell_type": "code",
   "execution_count": 4,
   "id": "5a94a6c1",
   "metadata": {},
   "outputs": [
    {
     "data": {
      "text/plain": [
       "type"
      ]
     },
     "execution_count": 4,
     "metadata": {},
     "output_type": "execute_result"
    }
   ],
   "source": [
    "type(MercedezBenz)"
   ]
  },
  {
   "cell_type": "code",
   "execution_count": 5,
   "id": "c1dabf16",
   "metadata": {},
   "outputs": [
    {
     "data": {
      "text/plain": [
       "(object,)"
      ]
     },
     "execution_count": 5,
     "metadata": {},
     "output_type": "execute_result"
    }
   ],
   "source": [
    "MercedezBenz.__bases__"
   ]
  },
  {
   "cell_type": "code",
   "execution_count": 7,
   "id": "e26282b7",
   "metadata": {},
   "outputs": [
    {
     "data": {
      "text/plain": [
       "'MercedezBenz'"
      ]
     },
     "execution_count": 7,
     "metadata": {},
     "output_type": "execute_result"
    }
   ],
   "source": [
    "MercedezBenz.__name__"
   ]
  },
  {
   "cell_type": "code",
   "execution_count": 8,
   "id": "655255c0",
   "metadata": {},
   "outputs": [
    {
     "data": {
      "text/plain": [
       "<__main__.MercedezBenz at 0x2d3a0c57080>"
      ]
     },
     "execution_count": 8,
     "metadata": {},
     "output_type": "execute_result"
    }
   ],
   "source": [
    "MercedezBenz()"
   ]
  },
  {
   "cell_type": "code",
   "execution_count": 9,
   "id": "2d22e5a4",
   "metadata": {},
   "outputs": [],
   "source": [
    "m1 = MercedezBenz()\n",
    "m2 = MercedezBenz()"
   ]
  },
  {
   "cell_type": "code",
   "execution_count": 10,
   "id": "1be08b39",
   "metadata": {},
   "outputs": [
    {
     "data": {
      "text/plain": [
       "False"
      ]
     },
     "execution_count": 10,
     "metadata": {},
     "output_type": "execute_result"
    }
   ],
   "source": [
    "m1 == m2"
   ]
  },
  {
   "cell_type": "code",
   "execution_count": 11,
   "id": "c71d89b1",
   "metadata": {},
   "outputs": [
    {
     "data": {
      "text/plain": [
       "<__main__.MercedezBenz at 0x2d3a0c12cc0>"
      ]
     },
     "execution_count": 11,
     "metadata": {},
     "output_type": "execute_result"
    }
   ],
   "source": [
    "m1"
   ]
  },
  {
   "cell_type": "code",
   "execution_count": 12,
   "id": "255c3886",
   "metadata": {},
   "outputs": [
    {
     "data": {
      "text/plain": [
       "<__main__.MercedezBenz at 0x2d3a0c13320>"
      ]
     },
     "execution_count": 12,
     "metadata": {},
     "output_type": "execute_result"
    }
   ],
   "source": [
    "m2"
   ]
  },
  {
   "cell_type": "code",
   "execution_count": 13,
   "id": "6f51a070",
   "metadata": {},
   "outputs": [],
   "source": [
    "class MercedezBenz:\n",
    "    doors = 2\n",
    "    wheels = 4"
   ]
  },
  {
   "cell_type": "code",
   "execution_count": 14,
   "id": "2fea62ab",
   "metadata": {},
   "outputs": [],
   "source": [
    "#__dict__"
   ]
  },
  {
   "cell_type": "code",
   "execution_count": 15,
   "id": "9e3d87e5",
   "metadata": {},
   "outputs": [
    {
     "data": {
      "text/plain": [
       "mappingproxy({'__module__': '__main__',\n",
       "              'doors': 2,\n",
       "              'wheels': 4,\n",
       "              '__dict__': <attribute '__dict__' of 'MercedezBenz' objects>,\n",
       "              '__weakref__': <attribute '__weakref__' of 'MercedezBenz' objects>,\n",
       "              '__doc__': None})"
      ]
     },
     "execution_count": 15,
     "metadata": {},
     "output_type": "execute_result"
    }
   ],
   "source": [
    "MercedezBenz.__dict__"
   ]
  },
  {
   "cell_type": "code",
   "execution_count": 16,
   "id": "bda4fee3",
   "metadata": {},
   "outputs": [],
   "source": [
    "MercedezBenz.doors = 4"
   ]
  },
  {
   "cell_type": "code",
   "execution_count": 17,
   "id": "6e94aa68",
   "metadata": {},
   "outputs": [],
   "source": [
    "MercedezBenz.model = 'G'"
   ]
  },
  {
   "cell_type": "code",
   "execution_count": 18,
   "id": "57185474",
   "metadata": {},
   "outputs": [
    {
     "data": {
      "text/plain": [
       "mappingproxy({'__module__': '__main__',\n",
       "              'doors': 4,\n",
       "              'wheels': 4,\n",
       "              '__dict__': <attribute '__dict__' of 'MercedezBenz' objects>,\n",
       "              '__weakref__': <attribute '__weakref__' of 'MercedezBenz' objects>,\n",
       "              '__doc__': None,\n",
       "              'model': 'G'})"
      ]
     },
     "execution_count": 18,
     "metadata": {},
     "output_type": "execute_result"
    }
   ],
   "source": [
    "MercedezBenz.__dict__"
   ]
  },
  {
   "cell_type": "code",
   "execution_count": 19,
   "id": "5afba89c",
   "metadata": {},
   "outputs": [],
   "source": [
    "m3 = MercedezBenz()\n",
    "m4 = MercedezBenz()"
   ]
  },
  {
   "cell_type": "code",
   "execution_count": 22,
   "id": "4f9e34ec",
   "metadata": {},
   "outputs": [
    {
     "data": {
      "text/plain": [
       "4"
      ]
     },
     "execution_count": 22,
     "metadata": {},
     "output_type": "execute_result"
    }
   ],
   "source": [
    "m3.doors"
   ]
  },
  {
   "cell_type": "code",
   "execution_count": 23,
   "id": "9de4c617",
   "metadata": {},
   "outputs": [
    {
     "data": {
      "text/plain": [
       "('G', 'G')"
      ]
     },
     "execution_count": 23,
     "metadata": {},
     "output_type": "execute_result"
    }
   ],
   "source": [
    "m3.model, m4.model"
   ]
  },
  {
   "cell_type": "code",
   "execution_count": 24,
   "id": "dbb7fd82",
   "metadata": {},
   "outputs": [],
   "source": [
    "class MercedezBenz:\n",
    "    doors = 4\n",
    "    wheels = 4\n",
    "    model = 'G'"
   ]
  },
  {
   "cell_type": "code",
   "execution_count": 25,
   "id": "5ba5df9d",
   "metadata": {},
   "outputs": [],
   "source": [
    "def drive():\n",
    "    return \"A car is being driven\""
   ]
  },
  {
   "cell_type": "code",
   "execution_count": 26,
   "id": "6427f497",
   "metadata": {},
   "outputs": [
    {
     "data": {
      "text/plain": [
       "'A car is being driven'"
      ]
     },
     "execution_count": 26,
     "metadata": {},
     "output_type": "execute_result"
    }
   ],
   "source": [
    "drive()"
   ]
  },
  {
   "cell_type": "code",
   "execution_count": 31,
   "id": "d2df5ff8",
   "metadata": {},
   "outputs": [],
   "source": [
    "class MercedezBenz:\n",
    "    doors = 4\n",
    "    wheels = 4\n",
    "    model = 'G'\n",
    "\n",
    "    def drive(self):\n",
    "        return self"
   ]
  },
  {
   "cell_type": "code",
   "execution_count": 32,
   "id": "58f8ffba",
   "metadata": {},
   "outputs": [],
   "source": [
    "m1 = MercedezBenz()"
   ]
  },
  {
   "cell_type": "code",
   "execution_count": 33,
   "id": "ffb6901c",
   "metadata": {},
   "outputs": [
    {
     "data": {
      "text/plain": [
       "<__main__.MercedezBenz at 0x2d3a0dad2e0>"
      ]
     },
     "execution_count": 33,
     "metadata": {},
     "output_type": "execute_result"
    }
   ],
   "source": [
    "m1.drive()"
   ]
  },
  {
   "cell_type": "code",
   "execution_count": 34,
   "id": "39b16e00",
   "metadata": {},
   "outputs": [
    {
     "data": {
      "text/plain": [
       "<__main__.MercedezBenz at 0x2d3a0dad2e0>"
      ]
     },
     "execution_count": 34,
     "metadata": {},
     "output_type": "execute_result"
    }
   ],
   "source": [
    "m1"
   ]
  },
  {
   "cell_type": "code",
   "execution_count": 35,
   "id": "68007202",
   "metadata": {},
   "outputs": [
    {
     "data": {
      "text/plain": [
       "True"
      ]
     },
     "execution_count": 35,
     "metadata": {},
     "output_type": "execute_result"
    }
   ],
   "source": [
    "m1 == m1.drive()"
   ]
  },
  {
   "cell_type": "code",
   "execution_count": 36,
   "id": "b4a3f6f3",
   "metadata": {},
   "outputs": [
    {
     "data": {
      "text/plain": [
       "True"
      ]
     },
     "execution_count": 36,
     "metadata": {},
     "output_type": "execute_result"
    }
   ],
   "source": [
    "m1 is m1.drive()"
   ]
  },
  {
   "cell_type": "code",
   "execution_count": 38,
   "id": "075c7d88",
   "metadata": {},
   "outputs": [
    {
     "data": {
      "text/plain": [
       "False"
      ]
     },
     "execution_count": 38,
     "metadata": {},
     "output_type": "execute_result"
    }
   ],
   "source": [
    "m1 == MercedezBenz"
   ]
  },
  {
   "cell_type": "code",
   "execution_count": 39,
   "id": "ea4da2dc",
   "metadata": {},
   "outputs": [],
   "source": [
    "class MercedezBenz:\n",
    "    doors = 4\n",
    "    wheels = 4\n",
    "    model = 'G'\n",
    "\n",
    "    def drive(self):\n",
    "        return f\"A Mercedez is driving. And it is {self}\\n\""
   ]
  },
  {
   "cell_type": "code",
   "execution_count": 40,
   "id": "c98b4fdd",
   "metadata": {},
   "outputs": [],
   "source": [
    "m1 = MercedezBenz()\n",
    "m2 = MercedezBenz()"
   ]
  },
  {
   "cell_type": "code",
   "execution_count": 41,
   "id": "96433185",
   "metadata": {},
   "outputs": [
    {
     "data": {
      "text/plain": [
       "'A Mercedez is driving. And it is <__main__.MercedezBenz object at 0x000002D3A0DD9C70>\\n'"
      ]
     },
     "execution_count": 41,
     "metadata": {},
     "output_type": "execute_result"
    }
   ],
   "source": [
    "m1.drive()"
   ]
  },
  {
   "cell_type": "code",
   "execution_count": 42,
   "id": "6b99f1a8",
   "metadata": {},
   "outputs": [
    {
     "data": {
      "text/plain": [
       "'A Mercedez is driving. And it is <__main__.MercedezBenz object at 0x000002D3A0DD8470>\\n'"
      ]
     },
     "execution_count": 42,
     "metadata": {},
     "output_type": "execute_result"
    }
   ],
   "source": [
    "m2.drive()"
   ]
  },
  {
   "cell_type": "code",
   "execution_count": 43,
   "id": "26686155",
   "metadata": {},
   "outputs": [],
   "source": [
    "# tracing drive"
   ]
  },
  {
   "cell_type": "code",
   "execution_count": 44,
   "id": "8403a8e7",
   "metadata": {},
   "outputs": [
    {
     "data": {
      "text/plain": [
       "<function __main__.MercedezBenz.drive(self)>"
      ]
     },
     "execution_count": 44,
     "metadata": {},
     "output_type": "execute_result"
    }
   ],
   "source": [
    "MercedezBenz.drive"
   ]
  },
  {
   "cell_type": "code",
   "execution_count": 45,
   "id": "12bce0b9",
   "metadata": {},
   "outputs": [
    {
     "data": {
      "text/plain": [
       "function"
      ]
     },
     "execution_count": 45,
     "metadata": {},
     "output_type": "execute_result"
    }
   ],
   "source": [
    "type(MercedezBenz.drive)"
   ]
  },
  {
   "cell_type": "code",
   "execution_count": 46,
   "id": "55669e5d",
   "metadata": {},
   "outputs": [
    {
     "data": {
      "text/plain": [
       "<bound method MercedezBenz.drive of <__main__.MercedezBenz object at 0x000002D3A0DD9C70>>"
      ]
     },
     "execution_count": 46,
     "metadata": {},
     "output_type": "execute_result"
    }
   ],
   "source": [
    "m1.drive"
   ]
  },
  {
   "cell_type": "code",
   "execution_count": 47,
   "id": "87036be5",
   "metadata": {},
   "outputs": [
    {
     "data": {
      "text/plain": [
       "<bound method MercedezBenz.drive of <__main__.MercedezBenz object at 0x000002D3A0DD8470>>"
      ]
     },
     "execution_count": 47,
     "metadata": {},
     "output_type": "execute_result"
    }
   ],
   "source": [
    "m2.drive"
   ]
  },
  {
   "cell_type": "code",
   "execution_count": 48,
   "id": "9b611948",
   "metadata": {},
   "outputs": [
    {
     "data": {
      "text/plain": [
       "method"
      ]
     },
     "execution_count": 48,
     "metadata": {},
     "output_type": "execute_result"
    }
   ],
   "source": [
    "type(m2.drive)"
   ]
  },
  {
   "cell_type": "code",
   "execution_count": 49,
   "id": "417aec5e",
   "metadata": {},
   "outputs": [],
   "source": [
    "class MercedezBenz:\n",
    "    doors = 4\n",
    "    wheels = 4\n",
    "    model = 'G'\n",
    "\n",
    "    def drive(self):\n",
    "        return f\"A Mercedez is driving. And it is {self}\\n\""
   ]
  },
  {
   "cell_type": "code",
   "execution_count": 50,
   "id": "c1ba30dd",
   "metadata": {},
   "outputs": [],
   "source": [
    "m1 = MercedezBenz()\n",
    "m2 = MercedezBenz()"
   ]
  },
  {
   "cell_type": "code",
   "execution_count": 51,
   "id": "6c636fbc",
   "metadata": {},
   "outputs": [
    {
     "data": {
      "text/plain": [
       "(4, 4)"
      ]
     },
     "execution_count": 51,
     "metadata": {},
     "output_type": "execute_result"
    }
   ],
   "source": [
    "m1.doors, m2.doors"
   ]
  },
  {
   "cell_type": "code",
   "execution_count": 52,
   "id": "9d251bcd",
   "metadata": {},
   "outputs": [
    {
     "data": {
      "text/plain": [
       "('G', 'G')"
      ]
     },
     "execution_count": 52,
     "metadata": {},
     "output_type": "execute_result"
    }
   ],
   "source": [
    "m1.model, m2.model"
   ]
  },
  {
   "cell_type": "code",
   "execution_count": 53,
   "id": "480a5510",
   "metadata": {},
   "outputs": [],
   "source": [
    "m1.color = 'black'\n",
    "m2.color = 'red'"
   ]
  },
  {
   "cell_type": "code",
   "execution_count": 54,
   "id": "36281513",
   "metadata": {},
   "outputs": [
    {
     "data": {
      "text/plain": [
       "('black', 'red')"
      ]
     },
     "execution_count": 54,
     "metadata": {},
     "output_type": "execute_result"
    }
   ],
   "source": [
    "m1.color, m2.color"
   ]
  },
  {
   "cell_type": "code",
   "execution_count": 8,
   "id": "1c74397a",
   "metadata": {},
   "outputs": [],
   "source": [
    "class MercedezBenz:\n",
    "    doors = 4\n",
    "    wheels = 4\n",
    "    model = 'G'\n",
    "    def __init__(self, color=\"black\"):# after instance creation, but before it is returned\n",
    "        self.color = color\n",
    "\n",
    "    def drive(self):\n",
    "        return f\"A Mercedez is driving. And it is {self}\\n\""
   ]
  },
  {
   "cell_type": "code",
   "execution_count": 15,
   "id": "669debdc",
   "metadata": {},
   "outputs": [
    {
     "data": {
      "text/plain": [
       "<__main__.MercedezBenz at 0x18210e917f0>"
      ]
     },
     "execution_count": 15,
     "metadata": {},
     "output_type": "execute_result"
    }
   ],
   "source": [
    "MercedezBenz()"
   ]
  },
  {
   "cell_type": "code",
   "execution_count": 16,
   "id": "0c4c5559",
   "metadata": {},
   "outputs": [
    {
     "data": {
      "text/plain": [
       "'black'"
      ]
     },
     "execution_count": 16,
     "metadata": {},
     "output_type": "execute_result"
    }
   ],
   "source": [
    "MercedezBenz().color"
   ]
  },
  {
   "cell_type": "code",
   "execution_count": 12,
   "id": "b4f64774",
   "metadata": {},
   "outputs": [
    {
     "data": {
      "text/plain": [
       "<__main__.MercedezBenz at 0x18210e92ab0>"
      ]
     },
     "execution_count": 12,
     "metadata": {},
     "output_type": "execute_result"
    }
   ],
   "source": [
    "MercedezBenz(\"Blue\")"
   ]
  },
  {
   "cell_type": "code",
   "execution_count": 13,
   "id": "691b5011",
   "metadata": {},
   "outputs": [],
   "source": [
    "m1 = MercedezBenz(\"black\")\n",
    "m2 = MercedezBenz(\"red\")"
   ]
  },
  {
   "cell_type": "code",
   "execution_count": 14,
   "id": "59244d54",
   "metadata": {},
   "outputs": [
    {
     "data": {
      "text/plain": [
       "('black', 'red')"
      ]
     },
     "execution_count": 14,
     "metadata": {},
     "output_type": "execute_result"
    }
   ],
   "source": [
    "m1.color, m2.color"
   ]
  },
  {
   "cell_type": "code",
   "execution_count": null,
   "id": "fb6aaf72",
   "metadata": {},
   "outputs": [],
   "source": []
  }
 ],
 "metadata": {
  "kernelspec": {
   "display_name": "Python 3",
   "language": "python",
   "name": "python3"
  },
  "language_info": {
   "codemirror_mode": {
    "name": "ipython",
    "version": 3
   },
   "file_extension": ".py",
   "mimetype": "text/x-python",
   "name": "python",
   "nbconvert_exporter": "python",
   "pygments_lexer": "ipython3",
   "version": "3.12.4"
  }
 },
 "nbformat": 4,
 "nbformat_minor": 5
}
